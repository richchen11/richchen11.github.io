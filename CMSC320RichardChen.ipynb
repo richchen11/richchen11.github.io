{
 "cells": [
  {
   "cell_type": "markdown",
   "metadata": {},
   "source": [
    "# Analysis of the Professional Counter Strike Global Offensive Circuit\n",
    "## CMSC 320 Final Project\n",
    "## Richard Chen"
   ]
  },
  {
   "cell_type": "markdown",
   "metadata": {},
   "source": [
    "# REQUIREMENTS\n",
    "\n",
    "1500 words of prose, 150 lines of Python code, appropriate documentation, visualization, and links to any external information\n",
    "\n",
    "## Motivation. \n",
    "Does the tutorial make the reader believe the topic is relevant or important (i) in general and (ii) with respect to data science?\n",
    "## Understanding. \n",
    "After reading through the tutorial, does an uninformed reader feel informed about the topic? Would a reader who already knew about the topic feel like s/he learned more about it?\n",
    "## Other resources. \n",
    "Does the tutorial link out to other resources (on the web, in books, etc) that would give a lagging reader additional help on specific topics, or an advanced reader the ability to dive more deeply into a specific application area or technique?\n",
    "## Prose. \n",
    "Does the prose portion of the tutorial actually add to the content of the deliverable?\n",
    "## Code. \n",
    "Is the code well written, well documented, reproducible, and does it help the reader understand the tutorial? Does it give good examples of specific techniques?\n",
    "## Subjective evaluation. \n",
    "If somebody linked to this tutorial from, say, Hacker News, would people actually read through the entire thing?"
   ]
  },
  {
   "cell_type": "code",
   "execution_count": null,
   "metadata": {},
   "outputs": [],
   "source": []
  }
 ],
 "metadata": {
  "kernelspec": {
   "display_name": "Python 3",
   "language": "python",
   "name": "python3"
  },
  "language_info": {
   "codemirror_mode": {
    "name": "ipython",
    "version": 3
   },
   "file_extension": ".py",
   "mimetype": "text/x-python",
   "name": "python",
   "nbconvert_exporter": "python",
   "pygments_lexer": "ipython3",
   "version": "3.7.4"
  }
 },
 "nbformat": 4,
 "nbformat_minor": 4
}
